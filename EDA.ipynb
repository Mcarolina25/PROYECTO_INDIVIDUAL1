{
 "cells": [
  {
   "cell_type": "code",
   "execution_count": null,
   "metadata": {},
   "outputs": [],
   "source": [
    "import pandas as pd\n",
    "import seaborn as sns\n",
    "import matplotlib.pyplot as plt\n",
    "from wordcloud import WordCloud\n",
    "# Cargar los datasets\n",
    "credits = pd.read_csv('Dataset_Procesados/processed_credits_dataset.csv')\n",
    "movies = pd.read_csv('Dataset_Procesados/processed_movies_dataset.csv')"
   ]
  },
  {
   "cell_type": "code",
   "execution_count": null,
   "metadata": {},
   "outputs": [],
   "source": [
    "# Chequeo de valores duplicados\n",
    "duplicados = credits.duplicated().sum()\n",
    "print(f\"Número de filas duplicadas: {duplicados}\")"
   ]
  },
  {
   "cell_type": "code",
   "execution_count": null,
   "metadata": {},
   "outputs": [],
   "source": [
    "# Chequeo de nulos\n",
    "nulos1 = credits.isnull().sum()\n",
    "nulos2 = movies.isnull().sum()\n",
    "print(\"Valores nulos por columna:\")\n",
    "print(nulos1)\n",
    "print(nulos2)"
   ]
  },
  {
   "cell_type": "code",
   "execution_count": null,
   "metadata": {},
   "outputs": [],
   "source": [
    "# Porcentaje de valores faltantes\n",
    "porcentaje_faltantes = movies.isnull().mean() * 100\n",
    "print(\"Porcentaje de valores faltantes por columna:\")\n",
    "print(porcentaje_faltantes)"
   ]
  },
  {
   "cell_type": "code",
   "execution_count": null,
   "metadata": {},
   "outputs": [],
   "source": [
    "# Porcentaje de valores faltantes\n",
    "porcentaje_faltantes = credits.isnull().mean() * 100\n",
    "print(\"Porcentaje de valores faltantes por columna:\")\n",
    "print(porcentaje_faltantes)"
   ]
  },
  {
   "cell_type": "code",
   "execution_count": null,
   "metadata": {},
   "outputs": [],
   "source": [
    "# Tipos de datos credits\n",
    "tipos_datos = credits.dtypes\n",
    "print(\"Tipos de datos por columna:\")\n",
    "print(tipos_datos)\n",
    "# Tipos de datos movies\n",
    "tipos_datos = movies.dtypes\n",
    "print(\"Tipos de datos por columna:\")\n",
    "print(tipos_datos)"
   ]
  },
  {
   "cell_type": "code",
   "execution_count": null,
   "metadata": {},
   "outputs": [],
   "source": [
    "\n",
    "# Tendencia de películas estrenadas por año\n",
    "movies['release_year'] = movies['release_date'].dt.year\n",
    "plt.figure(figsize=(30, 16))\n",
    "sns.countplot(x='release_year', data=movies)\n",
    "plt.title('Número de Películas Estrenadas por Año')\n",
    "plt.xticks(rotation=45)\n",
    "plt.show()\n",
    "\n",
    "# Presupuesto promedio por año\n",
    "avg_budget_by_year = movies.groupby('release_year')['budget'].mean().reset_index()\n",
    "plt.figure(figsize=(12, 6))\n",
    "sns.lineplot(x='release_year', y='budget', data=avg_budget_by_year)\n",
    "plt.title('Presupuesto Promedio por Año')\n",
    "plt.xticks(rotation=45)\n",
    "plt.show()\n"
   ]
  },
  {
   "cell_type": "code",
   "execution_count": null,
   "metadata": {},
   "outputs": [],
   "source": [
    "#columna de títulos no tenga NaN y pasar a string\n",
    "movies['title'] = movies['title'].astype(str)  # Convierte todos los títulos a string\n",
    "\n",
    "# Unir todos los títulos en una sola cadena\n",
    "text = ' '.join(movies['title'].dropna())  # Elimina NaN antes de unir\n",
    "# Crear una nube de palabras\n",
    "text = ' '.join(movies['title'])\n",
    "wordcloud = WordCloud(width=800, height=400, background_color='white').generate(text)\n",
    "\n",
    "# Mostrar la nube de palabras\n",
    "plt.figure(figsize=(10, 5))\n",
    "plt.imshow(wordcloud, interpolation='bilinear')\n",
    "plt.axis('off')\n",
    "plt.show()"
   ]
  }
 ],
 "metadata": {
  "kernelspec": {
   "display_name": "Python 3",
   "language": "python",
   "name": "python3"
  },
  "language_info": {
   "codemirror_mode": {
    "name": "ipython",
    "version": 3
   },
   "file_extension": ".py",
   "mimetype": "text/x-python",
   "name": "python",
   "nbconvert_exporter": "python",
   "pygments_lexer": "ipython3",
   "version": "3.12.2"
  }
 },
 "nbformat": 4,
 "nbformat_minor": 2
}
