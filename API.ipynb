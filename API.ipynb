{
 "cells": [
  {
   "cell_type": "code",
   "execution_count": 25,
   "metadata": {},
   "outputs": [],
   "source": [
    "from fastapi import FastAPI, HTTPException\n",
    "import pandas as pd\n",
    "from sklearn.metrics.pairwise import cosine_similarity\n",
    "from sklearn.feature_extraction.text import CountVectorizer"
   ]
  },
  {
   "cell_type": "code",
   "execution_count": 26,
   "metadata": {},
   "outputs": [],
   "source": [
    "app = FastAPI()\n",
    "\n",
    "# Cargar los datasets\n",
    "movies_df = pd.read_csv('Dataset_Procesados/processed_movies_dataset.csv')\n",
    "ratings_df = pd.read_csv('Dataset_Procesados/processed_credits_dataset.csv')"
   ]
  },
  {
   "cell_type": "code",
   "execution_count": 27,
   "metadata": {},
   "outputs": [],
   "source": [
    "# Preprocesamiento de datos\n",
    "movies_df['release_date'] = pd.to_datetime(movies_df['release_date'])\n",
    "movies_df['month'] = movies_df['release_date'].dt.month_name(locale='Spanish')\n",
    "movies_df['day'] = movies_df['release_date'].dt.day_name(locale='Spanish')"
   ]
  },
  {
   "cell_type": "code",
   "execution_count": 28,
   "metadata": {},
   "outputs": [],
   "source": [
    "# Preprocesar los datos si es necesario\n",
    "# Asegúrate de que las columnas necesarias estén presentes y en el formato correcto\n",
    "\n",
    "@app.get(\"/\")\n",
    "def read_root():\n",
    "    return {\"message\": \"Bienvenido a la API de películas\"}"
   ]
  },
  {
   "cell_type": "code",
   "execution_count": 29,
   "metadata": {},
   "outputs": [],
   "source": [
    "@app.get(\"/cantidad_filmaciones_mes/{mes}\")\n",
    "def cantidad_filmaciones_mes(mes: str):\n",
    "    mes_num = {\n",
    "        \"enero\": 1, \"febrero\": 2, \"marzo\": 3, \"abril\": 4,\n",
    "        \"mayo\": 5, \"junio\": 6, \"julio\": 7, \"agosto\": 8,\n",
    "        \"septiembre\": 9, \"octubre\": 10, \"noviembre\": 11, \"diciembre\": 12\n",
    "    }\n",
    "    if mes.lower() not in mes_num:\n",
    "        raise HTTPException(status_code=400, detail=\"Mes no válido\")\n",
    "    \n",
    "    cantidad = movies_df[movies_df['release_date'].dt.month == mes_num[mes.lower()]].shape[0]\n",
    "    return {\"message\": f\"{cantidad} películas fueron estrenadas en el mes de {mes}\"}"
   ]
  },
  {
   "cell_type": "code",
   "execution_count": 30,
   "metadata": {},
   "outputs": [],
   "source": [
    "@app.get(\"/cantidad_filmaciones_dia/{dia}\")\n",
    "def cantidad_filmaciones_dia(dia: str):\n",
    "    dia_num = {\n",
    "        \"lunes\": 0, \"martes\": 1, \"miércoles\": 2, \"jueves\": 3,\n",
    "        \"viernes\": 4, \"sábado\": 5, \"domingo\": 6\n",
    "    }\n",
    "    if dia.lower() not in dia_num:\n",
    "        raise HTTPException(status_code=400, detail=\"Día no válido\")\n",
    "    \n",
    "    cantidad = movies_df[movies_df['release_date'].dt.dayofweek == dia_num[dia.lower()]].shape[0]\n",
    "    return {\"message\": f\"{cantidad} películas fueron estrenadas en los días {dia}\"}"
   ]
  },
  {
   "cell_type": "code",
   "execution_count": 31,
   "metadata": {},
   "outputs": [],
   "source": [
    "# Endpoint 3: Score de un título\n",
    "@app.get(\"/score_titulo/{titulo_de_la_filmacion}\")\n",
    "def score_titulo(titulo_de_la_filmacion: str):\n",
    "    pelicula = movies_df[movies_df['title'].str.lower() == titulo_de_la_filmacion.lower()]\n",
    "    if not pelicula.empty:\n",
    "        return f\"La película {titulo_de_la_filmacion} fue estrenada en el año {pelicula['release_year'].values[0]} con un score/popularidad de {pelicula['popularity'].values[0]}\"\n",
    "    raise HTTPException(status_code=404, detail=\"Película no encontrada\")"
   ]
  },
  {
   "cell_type": "code",
   "execution_count": 32,
   "metadata": {},
   "outputs": [],
   "source": [
    "# Endpoint 4: Votos de un título\n",
    "@app.get(\"/votos_titulo/{titulo_de_la_filmacion}\")\n",
    "def votos_titulo(titulo_de_la_filmacion: str):\n",
    "    pelicula = movies_df[movies_df['title'].str.lower() == titulo_de_la_filmacion.lower()]\n",
    "    if not pelicula.empty:\n",
    "        if pelicula['vote_count'].values[0] >= 2000:\n",
    "            return f\"La película {titulo_de_la_filmacion} fue estrenada en el año {pelicula['release_year'].values[0]}. La misma cuenta con un total de {pelicula['vote_count'].values[0]} valoraciones, con un promedio de {pelicula['vote_average'].values[0]}\"\n",
    "        return \"La película no cumple con el mínimo de 2000 valoraciones.\"\n",
    "    raise HTTPException(status_code=404, detail=\"Película no encontrada\")"
   ]
  },
  {
   "cell_type": "code",
   "execution_count": 33,
   "metadata": {},
   "outputs": [],
   "source": [
    "# Endpoint 5: Información de un actor\n",
    "@app.get(\"/get_actor/{nombre_actor}\")\n",
    "def get_actor(nombre_actor: str):\n",
    "    actor_movies = movies_df[movies_df['cast'].str.contains(nombre_actor, na=False)]\n",
    "    if not actor_movies.empty:\n",
    "        total_peliculas = actor_movies.shape[0]\n",
    "        total_retorno = actor_movies['return'].sum()\n",
    "        promedio_retorno = total_retorno / total_peliculas if total_peliculas > 0 else 0\n",
    "        return f\"El actor {nombre_actor} ha participado de {total_peliculas} cantidad de filmaciones, el mismo ha conseguido un retorno de {total_retorno} con un promedio de {promedio_retorno} por filmación\"\n",
    "    raise HTTPException(status_code=404, detail=\"Actor no encontrado\")\n"
   ]
  },
  {
   "cell_type": "code",
   "execution_count": 34,
   "metadata": {},
   "outputs": [],
   "source": [
    "# Endpoint 6: Información de un director\n",
    "@app.get(\"/get_director/{nombre_director}\")\n",
    "def get_director(nombre_director: str):\n",
    "    director_movies = movies_df[movies_df['director'].str.lower() == nombre_director.lower()]\n",
    "    if not director_movies.empty:\n",
    "        resultados = []\n",
    "        for _, row in director_movies.iterrows():\n",
    "            resultados.append({\n",
    "                \"titulo\": row['title'],\n",
    "                \"fecha_lanzamiento\": row['release_date'],\n",
    "                \"retorno\": row['return'],\n",
    "                \"costo\": row['budget'],\n",
    "                \"ganancia\": row['revenue']\n",
    "            })\n",
    "        return resultados\n",
    "    raise HTTPException(status_code=404, detail=\"Director no encontrado\")\n"
   ]
  },
  {
   "cell_type": "code",
   "execution_count": 35,
   "metadata": {},
   "outputs": [],
   "source": [
    "@app.get(\"/recomendacion/{titulo}\")\n",
    "def recomendacion(titulo: str):\n",
    "    if titulo not in movies_df['title'].values:\n",
    "        raise HTTPException(status_code=404, detail=\"Película no encontrada\")\n",
    "\n",
    "    # Crear un sistema de recomendación basado en la similitud del coseno\n",
    "    count_vectorizer = CountVectorizer()\n",
    "    count_matrix = count_vectorizer.fit_transform(movies_df['title'])\n",
    "    cosine_sim = cosine_similarity(count_matrix)\n",
    "\n",
    "    # Obtener el índice de la película\n",
    "    idx = movies_df.index[movies_df['title'] == titulo].tolist()[0]\n",
    "\n",
    "    # Obtener las puntuaciones de similitud y ordenarlas\n",
    "    sim_scores = list(enumerate(cosine_sim[idx]))\n",
    "    sim_scores = sorted(sim_scores, key=lambda x: x[1], reverse=True)\n",
    "\n",
    "    # Obtener las 5 películas más similares\n",
    "    top_5_indices = [i[0] for i in sim_scores[1:6]]  # Excluyendo la primera (la misma película)\n",
    "    recomendaciones = movies_df['title'].iloc[top_5_indices].tolist()\n",
    "\n",
    "    return recomendaciones\n"
   ]
  }
 ],
 "metadata": {
  "kernelspec": {
   "display_name": "Python 3",
   "language": "python",
   "name": "python3"
  },
  "language_info": {
   "codemirror_mode": {
    "name": "ipython",
    "version": 3
   },
   "file_extension": ".py",
   "mimetype": "text/x-python",
   "name": "python",
   "nbconvert_exporter": "python",
   "pygments_lexer": "ipython3",
   "version": "3.12.2"
  }
 },
 "nbformat": 4,
 "nbformat_minor": 2
}
