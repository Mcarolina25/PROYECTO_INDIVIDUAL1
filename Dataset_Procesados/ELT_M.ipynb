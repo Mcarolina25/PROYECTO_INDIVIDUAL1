{
 "cells": [
  {
   "cell_type": "code",
   "execution_count": 34,
   "metadata": {},
   "outputs": [
    {
     "name": "stdout",
     "output_type": "stream",
     "text": [
      "Dataset cargado correctamente.\n"
     ]
    }
   ],
   "source": [
    "import pandas as pd\n",
    "import ast\n",
    "\n",
    "# Cargar el dataset\n",
    "movies = pd.read_csv('../Movies/movies_dataset.csv', low_memory=False)\n",
    "print(\"Dataset cargado correctamente.\")\n",
    "\n"
   ]
  },
  {
   "cell_type": "code",
   "execution_count": 35,
   "metadata": {},
   "outputs": [],
   "source": [
    "# Función para desanidar columnas\n",
    "def desanidar_columna(df, columna, key):\n",
    "    def obtener_valor(x):\n",
    "        if pd.notnull(x) and x != 'nan':\n",
    "            try:\n",
    "                data = ast.literal_eval(x)\n",
    "                # Verificar si data es un diccionario antes de usar .get()\n",
    "                return data.get(key) if isinstance(data, dict) else None\n",
    "            except (ValueError, SyntaxError):\n",
    "                return None\n",
    "        return None\n",
    "\n",
    "    df[columna] = df[columna].apply(obtener_valor)\n",
    "\n",
    "# Desanidar columnas específicas\n",
    "columnas_a_desanidar = ['belongs_to_collection', 'production_companies', 'production_countries', 'spoken_languages']\n",
    "for columna in columnas_a_desanidar:\n",
    "    desanidar_columna(movies, columna, 'name')\n",
    "\n"
   ]
  },
  {
   "cell_type": "code",
   "execution_count": 36,
   "metadata": {},
   "outputs": [],
   "source": [
    "# Convertir revenue y budget a tipo numérico y rellenar nulos\n",
    "movies['revenue'] = pd.to_numeric(movies['revenue'], errors='coerce').fillna(0)\n",
    "movies['budget'] = pd.to_numeric(movies['budget'], errors='coerce').fillna(0)\n"
   ]
  },
  {
   "cell_type": "code",
   "execution_count": 37,
   "metadata": {},
   "outputs": [],
   "source": [
    "# Eliminar filas con valores nulos en release_date\n",
    "movies = movies.dropna(subset=['release_date'])"
   ]
  },
  {
   "cell_type": "code",
   "execution_count": 38,
   "metadata": {},
   "outputs": [
    {
     "name": "stdout",
     "output_type": "stream",
     "text": [
      "datetime64[ns]\n"
     ]
    }
   ],
   "source": [
    "\n",
    "# Convertir release_date al formato AAAA-mm-dd y extraer el año\n",
    "movies['release_date'] = pd.to_datetime(movies['release_date'], errors='coerce')\n",
    "movies['release_year'] = movies['release_date'].dt.year\n",
    "print(movies['release_date'].dtype)\n",
    "# Crear la columna de retorno de inversión\n",
    "movies['return'] = movies.apply(lambda x: x['revenue'] / x['budget'] if x['budget'] > 0 else 0, axis=1)\n"
   ]
  },
  {
   "cell_type": "code",
   "execution_count": 39,
   "metadata": {},
   "outputs": [],
   "source": [
    "\n",
    "# Seleccionar solo las columnas necesarias para la API\n",
    "columnas_necesarias = ['title', 'release_date', 'release_year', 'revenue', 'budget', 'return', \n",
    "                       'belongs_to_collection', 'production_companies', 'production_countries', 'spoken_languages', 'id','vote_average','vote_count', 'popularity']\n",
    "movies = movies[columnas_necesarias]"
   ]
  },
  {
   "cell_type": "code",
   "execution_count": 40,
   "metadata": {},
   "outputs": [
    {
     "name": "stdout",
     "output_type": "stream",
     "text": [
      "Dataset procesado y guardado correctamente.\n"
     ]
    }
   ],
   "source": [
    "# Guardar el dataset procesado\n",
    "movies.to_csv('processed_movies_dataset.csv', index=False)\n",
    "print(\"Dataset procesado y guardado correctamente.\")"
   ]
  }
 ],
 "metadata": {
  "kernelspec": {
   "display_name": "Python 3",
   "language": "python",
   "name": "python3"
  },
  "language_info": {
   "codemirror_mode": {
    "name": "ipython",
    "version": 3
   },
   "file_extension": ".py",
   "mimetype": "text/x-python",
   "name": "python",
   "nbconvert_exporter": "python",
   "pygments_lexer": "ipython3",
   "version": "3.12.2"
  }
 },
 "nbformat": 4,
 "nbformat_minor": 2
}
